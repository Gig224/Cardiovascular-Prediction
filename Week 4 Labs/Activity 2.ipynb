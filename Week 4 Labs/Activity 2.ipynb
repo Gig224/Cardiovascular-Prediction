{
 "cells": [
  {
   "cell_type": "code",
   "execution_count": 3,
   "id": "90e5ca8e-20ba-41fd-9259-bc6c46283d9a",
   "metadata": {},
   "outputs": [],
   "source": [
    "import pandas as pd\n",
    "import numpy as np\n",
    "import os"
   ]
  },
  {
   "cell_type": "code",
   "execution_count": 8,
   "id": "ecc044c5-cb30-4a13-8da8-79f7ec91fce0",
   "metadata": {},
   "outputs": [
    {
     "name": "stdout",
     "output_type": "stream",
     "text": [
      "  Item Name     Category   Price  Quantity Customer Gender\n",
      "0    item_1    groceries  484.94         1     John      m\n",
      "1    item_2         home  388.69         1     John      m\n",
      "2    item_3  electronics  470.05        19     Jane      M\n",
      "3    item_4    groceries  447.94         2     Jane      m\n",
      "4    item_5    groceries  300.96        12  Charlie      m\n"
     ]
    }
   ],
   "source": [
    "# Step 1: Create the synthetic shopping dataset\n",
    "np.random.seed(42)\n",
    "item_names = [f\"item_{i}\" for i in range(1, 101)]\n",
    "categories = np.random.choice(['electronics', 'clothing', 'groceries', 'home'], size=100)\n",
    "prices = np.round(np.random.uniform(5, 500, size=100), 2)\n",
    "quantities = np.random.randint(1, 20, size=100)\n",
    "customers = np.random.choice(['John', 'Alice', 'Bob', 'Jane', 'Charlie'], size=100)\n",
    "genders = np.random.choice(['M', 'male', 'F', 'female', 'm', 'f'], size=100)\n",
    "\n",
    "shopping_df = pd.DataFrame({\n",
    "    'Item Name': item_names,\n",
    "    'Category': categories,\n",
    "    'Price': prices,\n",
    "    'Quantity': quantities,\n",
    "    'Customer': customers,\n",
    "    'Gender': genders\n",
    "})\n",
    "#print(shopping_df)\n",
    "print(shopping_df.head())"
   ]
  },
  {
   "cell_type": "code",
   "execution_count": 4,
   "id": "56671f48-b181-47bb-9699-05b1f5bea4aa",
   "metadata": {},
   "outputs": [],
   "source": [
    "# Step 2: Save the Original Dataset (before cleaning)\n",
    "def save_dataset(df, file_path):\n",
    "    os.makedirs(os.path.dirname(file_path), exist_ok=True)\n",
    "    df.to_csv(file_path, index=False)\n",
    "    print(f\"Dataset saved successfully to {file_path}\")\n",
    "\n"
   ]
  },
  {
   "cell_type": "code",
   "execution_count": 6,
   "id": "7345d064-14e1-4884-83da-8489fadf53b9",
   "metadata": {},
   "outputs": [
    {
     "name": "stdout",
     "output_type": "stream",
     "text": [
      "Dataset saved successfully to C:\\Users\\2217116\\Desktop\\L7-DataPreparation\\Week 4 Labs\\Week 4 Labs\\original_shopping_data.csv\n"
     ]
    }
   ],
   "source": [
    "# File path for the original dataset\n",
    "original_file_path = r\"C:\\Users\\2217116\\Desktop\\L7-DataPreparation\\Week 4 Labs\\Week 4 Labs\\original_shopping_data.csv\"\n",
    "\n",
    "# Save the original dataset\n",
    "save_dataset(shopping_df, original_file_path)"
   ]
  },
  {
   "cell_type": "code",
   "execution_count": 9,
   "id": "07b42f19-843e-4db3-bb7e-c3c7f27e37f6",
   "metadata": {},
   "outputs": [
    {
     "name": "stdout",
     "output_type": "stream",
     "text": [
      "   Item Name     Category   Price  Quantity Customer  Gender\n",
      "0     item_1    groceries  484.94         1     john    Male\n",
      "1     item_2         home  388.69         1     john    Male\n",
      "2     item_3  electronics  470.05        19     jane    Male\n",
      "3     item_4    groceries  447.94         2     jane    Male\n",
      "4     item_5    groceries  300.96        12  charlie    Male\n",
      "..       ...          ...     ...       ...      ...     ...\n",
      "95   item_96     clothing   23.26         5    alice    Male\n",
      "96   item_97     clothing  306.73        16    alice  Female\n",
      "97   item_98         home  253.83        19     john    Male\n",
      "98   item_99     clothing   30.48         4    alice    Male\n",
      "99  item_100  electronics  142.93         3     john    Male\n",
      "\n",
      "[100 rows x 6 columns]\n"
     ]
    }
   ],
   "source": [
    "# Step 3: Clean the dataset\n",
    "def clean_shopping_data(df):\n",
    "    for col in df.select_dtypes(include='object').columns:\n",
    "        df[col] = df[col].str.strip().str.lower()\n",
    "    df['Gender'] = df['Gender'].map({'m': 'Male', 'male': 'Male', 'f': 'Female', 'female': 'Female'})\n",
    "    df['Quantity'] = df['Quantity'].astype(int)\n",
    "    df['Price'] = df['Price'].astype(float)\n",
    "    return df\n",
    "\n",
    "cleaned_shopping_df = clean_shopping_data(shopping_df)\n",
    "print(shopping_df)"
   ]
  },
  {
   "cell_type": "code",
   "execution_count": 8,
   "id": "490ebfb8-fa62-43d2-a98c-ac1a22edda7e",
   "metadata": {},
   "outputs": [
    {
     "name": "stdout",
     "output_type": "stream",
     "text": [
      "Dataset saved successfully to C:\\Users\\2217116\\Desktop\\L7-DataPreparation\\Week 4 Labs\\Week 4 Labs\\cleaned_shopping_data.csv\n"
     ]
    }
   ],
   "source": [
    "# Step 4: Save the Cleaned Dataset\n",
    "cleaned_file_path = r\"C:\\Users\\2217116\\Desktop\\L7-DataPreparation\\Week 4 Labs\\Week 4 Labs\\cleaned_shopping_data.csv\"\n",
    "save_dataset(cleaned_shopping_df, cleaned_file_path)"
   ]
  },
  {
   "cell_type": "code",
   "execution_count": 9,
   "id": "562164c1-5e8b-4fdf-9f73-681506444389",
   "metadata": {},
   "outputs": [
    {
     "name": "stdout",
     "output_type": "stream",
     "text": [
      "First 10 rows of the cleaned dataset:\n",
      "  Item Name     Category   Price  Quantity Customer  Gender\n",
      "0    item_1    groceries  484.94         1     john    Male\n",
      "1    item_2         home  388.69         1     john    Male\n",
      "2    item_3  electronics  470.05        19     jane    Male\n",
      "3    item_4    groceries  447.94         2     jane    Male\n",
      "4    item_5    groceries  300.96        12  charlie    Male\n",
      "5    item_6         home  461.33         6  charlie  Female\n",
      "6    item_7  electronics   48.80         4      bob    Male\n",
      "7    item_8  electronics  102.01        11     jane  Female\n",
      "8    item_9    groceries   27.39        17     john  Female\n",
      "9   item_10     clothing  166.04         6  charlie    Male\n"
     ]
    }
   ],
   "source": [
    "# Step 5: Display the first 10 rows of the cleaned dataset\n",
    "print(\"First 10 rows of the cleaned dataset:\")\n",
    "print(cleaned_shopping_df.head(10))"
   ]
  }
 ],
 "metadata": {
  "kernelspec": {
   "display_name": "Python 3 (ipykernel)",
   "language": "python",
   "name": "python3"
  },
  "language_info": {
   "codemirror_mode": {
    "name": "ipython",
    "version": 3
   },
   "file_extension": ".py",
   "mimetype": "text/x-python",
   "name": "python",
   "nbconvert_exporter": "python",
   "pygments_lexer": "ipython3",
   "version": "3.12.7"
  }
 },
 "nbformat": 4,
 "nbformat_minor": 5
}
