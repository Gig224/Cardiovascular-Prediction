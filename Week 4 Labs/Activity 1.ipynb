{
 "cells": [
  {
   "cell_type": "code",
   "execution_count": 1,
   "id": "3483736f-038a-454b-8be6-7facf95bda61",
   "metadata": {},
   "outputs": [],
   "source": [
    "import pandas as pd\n",
    "\n",
    "# Step 1: Load the Dataset\n",
    "# Load the dataset from a CSV file\n",
    "file_path = r'students_data.csv'\n",
    "df = pd.read_csv(file_path)"
   ]
  },
  {
   "cell_type": "code",
   "execution_count": 2,
   "id": "167b8a90-c313-4dee-b2e5-24e196c6588b",
   "metadata": {
    "scrolled": true
   },
   "outputs": [
    {
     "name": "stdout",
     "output_type": "stream",
     "text": [
      "First few rows of the dataset:\n",
      "     Name   Age  Gender  Grade  Attendance\n",
      "0   Alice  20.0  Female   85.0        95.0\n",
      "1     Bob  22.0    Male   90.0         NaN\n",
      "2     NaN  19.0    Male    NaN        85.0\n",
      "3   Diana  21.0  Female   78.0        90.0\n",
      "4  Edward   NaN    Male   92.0        80.0\n"
     ]
    }
   ],
   "source": [
    "# Display the first few rows\n",
    "import pandas as pd\n",
    "file_path = r'students_data.csv'\n",
    "df = pd.read_csv(file_path)\n",
    "print(\"First few rows of the dataset:\")\n",
    "print(df.head())\n"
   ]
  },
  {
   "cell_type": "code",
   "execution_count": 3,
   "id": "5844bf1a-8c41-49a1-9044-36edbe59760c",
   "metadata": {},
   "outputs": [
    {
     "name": "stdout",
     "output_type": "stream",
     "text": [
      "     Name   Age  Gender      Grade  Attendance\n",
      "0   Alice  20.0  Female  85.000000        95.0\n",
      "1     Bob  22.0    Male  90.000000         NaN\n",
      "2     NaN  19.0    Male  86.285714        85.0\n",
      "3   Diana  21.0  Female  78.000000        90.0\n",
      "4  Edward   NaN    Male  92.000000        80.0\n",
      "5     NaN  23.0     NaN  86.285714         NaN\n",
      "6   Grace  20.0  Female  88.000000        75.0\n",
      "7  Hannah  21.0     NaN  76.000000        88.0\n",
      "8     Ivy   NaN  Female  95.000000         NaN\n",
      "9    Jack  24.0    Male  86.285714        85.0\n"
     ]
    }
   ],
   "source": [
    "# Step 3: Fill Missing Values in the Grade Column\n",
    "# Fill missing values in the 'Grade' column with the mean of the 'Grade' column\n",
    "mean_grade = df['Grade'].mean()\n",
    "df['Grade'] = df['Grade'].fillna(mean_grade)\n",
    "print(df.to_string())"
   ]
  },
  {
   "cell_type": "code",
   "execution_count": 4,
   "id": "354dc9f0-3580-470e-a67b-c0cafb1f97de",
   "metadata": {},
   "outputs": [
    {
     "name": "stdout",
     "output_type": "stream",
     "text": [
      "     Name   Age  Gender      Grade  Attendance\n",
      "0   Alice  20.0  Female  85.000000        95.0\n",
      "2     NaN  19.0    Male  86.285714        85.0\n",
      "3   Diana  21.0  Female  78.000000        90.0\n",
      "4  Edward   NaN    Male  92.000000        80.0\n",
      "6   Grace  20.0  Female  88.000000        75.0\n",
      "7  Hannah  21.0     NaN  76.000000        88.0\n",
      "9    Jack  24.0    Male  86.285714        85.0\n"
     ]
    }
   ],
   "source": [
    "# Step 4: Drop Rows with Missing Attendance\n",
    "# Drop rows where the 'Attendance' column has missing values\n",
    "df = df.dropna(subset=['Attendance'])\n",
    "print(df.to_string())"
   ]
  },
  {
   "cell_type": "code",
   "execution_count": 5,
   "id": "b54ee7c6-f2b5-4100-88a6-85ff7f5f15f3",
   "metadata": {},
   "outputs": [
    {
     "name": "stdout",
     "output_type": "stream",
     "text": [
      "\n",
      "Missing names replaced with 'Unknown'.\n",
      "      Name   Age  Gender      Grade  Attendance\n",
      "0    Alice  20.0  Female  85.000000        95.0\n",
      "2  Unknown  19.0    Male  86.285714        85.0\n",
      "3    Diana  21.0  Female  78.000000        90.0\n",
      "4   Edward   NaN    Male  92.000000        80.0\n",
      "6    Grace  20.0  Female  88.000000        75.0\n",
      "7   Hannah  21.0     NaN  76.000000        88.0\n",
      "9     Jack  24.0    Male  86.285714        85.0\n"
     ]
    }
   ],
   "source": [
    "# Step 5: Replace Missing Names\n",
    "# Replace missing entries in the 'Name' column with 'Unknown'\n",
    "df['Name'] = df['Name'].fillna(\"Unknown\")\n",
    "\n",
    "print(\"\\nMissing names replaced with 'Unknown'.\")\n",
    "print(df.to_string())\n"
   ]
  },
  {
   "cell_type": "code",
   "execution_count": 6,
   "id": "f63d8211-a3a9-4361-8173-30fd21873cd7",
   "metadata": {},
   "outputs": [
    {
     "name": "stdout",
     "output_type": "stream",
     "text": [
      "\n",
      "New DataFrame with no missing values created. Total rows: 5\n",
      "      Name   Age  Gender      Grade  Attendance\n",
      "0    Alice  20.0  Female  85.000000        95.0\n",
      "2  Unknown  19.0    Male  86.285714        85.0\n",
      "3    Diana  21.0  Female  78.000000        90.0\n",
      "4   Edward   NaN    Male  92.000000        80.0\n",
      "6    Grace  20.0  Female  88.000000        75.0\n",
      "7   Hannah  21.0     NaN  76.000000        88.0\n",
      "9     Jack  24.0    Male  86.285714        85.0\n"
     ]
    }
   ],
   "source": [
    "# Step 6: Challenge - Create a DataFrame with No Missing Values\n",
    "# Create a new DataFrame that contains only rows without any missing values\n",
    "df_no_missing = df.dropna()\n",
    "\n",
    "print(f\"\\nNew DataFrame with no missing values created. Total rows: {len(df_no_missing)}\")\n",
    "print(df.to_string())"
   ]
  },
  {
   "cell_type": "code",
   "execution_count": 7,
   "id": "bbe278c4-bce7-4654-8959-c210fbce2f8a",
   "metadata": {},
   "outputs": [
    {
     "name": "stdout",
     "output_type": "stream",
     "text": [
      "      Name   Age  Gender      Grade  Attendance\n",
      "0    Alice  20.0  Female  85.000000        95.0\n",
      "2  Unknown  19.0    Male  86.285714        85.0\n",
      "3    Diana  21.0  Female  78.000000        90.0\n",
      "4   Edward   NaN    Male  92.000000        80.0\n",
      "6    Grace  20.0  Female  88.000000        75.0\n",
      "7   Hannah  21.0     NaN  76.000000        88.0\n",
      "9     Jack  24.0    Male  86.285714        85.0\n"
     ]
    }
   ],
   "source": [
    "# Step 7: Save the amended DataFrame to a new CSV file\n",
    "# Save the modified DataFrame to a new CSV file\n",
    "output_file_path = r\"students_data_amended.csv\"\n",
    "df.to_csv(output_file_path, index=False)\n",
    "print(df.to_string())"
   ]
  },
  {
   "cell_type": "code",
   "execution_count": 8,
   "id": "0766e7ce-c25a-4d19-a9fc-afdd663671cf",
   "metadata": {},
   "outputs": [
    {
     "name": "stdout",
     "output_type": "stream",
     "text": [
      "\n",
      "Data after handling missing values:\n",
      "      Name   Age  Gender      Grade  Attendance\n",
      "0    Alice  20.0  Female  85.000000        95.0\n",
      "2  Unknown  19.0    Male  86.285714        85.0\n",
      "3    Diana  21.0  Female  78.000000        90.0\n",
      "4   Edward   NaN    Male  92.000000        80.0\n",
      "6    Grace  20.0  Female  88.000000        75.0\n",
      "\n",
      "New DataFrame with no missing values:\n",
      "      Name   Age  Gender      Grade  Attendance\n",
      "0    Alice  20.0  Female  85.000000        95.0\n",
      "2  Unknown  19.0    Male  86.285714        85.0\n",
      "3    Diana  21.0  Female  78.000000        90.0\n",
      "6    Grace  20.0  Female  88.000000        75.0\n",
      "9     Jack  24.0    Male  86.285714        85.0\n"
     ]
    }
   ],
   "source": [
    "# Summary Code - All steps together\n",
    "# After handling missing values, display the final DataFrame and the DataFrame with no missing values\n",
    "print(\"\\nData after handling missing values:\")\n",
    "print(df.head())\n",
    "\n",
    "print(\"\\nNew DataFrame with no missing values:\")\n",
    "print(df_no_missing.head())"
   ]
  }
 ],
 "metadata": {
  "kernelspec": {
   "display_name": "Python 3 (ipykernel)",
   "language": "python",
   "name": "python3"
  },
  "language_info": {
   "codemirror_mode": {
    "name": "ipython",
    "version": 3
   },
   "file_extension": ".py",
   "mimetype": "text/x-python",
   "name": "python",
   "nbconvert_exporter": "python",
   "pygments_lexer": "ipython3",
   "version": "3.12.7"
  }
 },
 "nbformat": 4,
 "nbformat_minor": 5
}
