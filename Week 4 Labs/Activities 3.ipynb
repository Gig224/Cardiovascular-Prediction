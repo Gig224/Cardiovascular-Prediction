{
 "cells": [
  {
   "cell_type": "code",
   "execution_count": 5,
   "id": "6122cbe0-7562-47f7-b6ab-9d7726523bc4",
   "metadata": {},
   "outputs": [],
   "source": [
    "import pandas as pd\n",
    "import numpy as np\n",
    "import matplotlib.pyplot as plt\n",
    "import seaborn as sns\n",
    "from sklearn.model_selection import train_test_split, GridSearchCV\n",
    "from sklearn.preprocessing import StandardScaler\n",
    "from sklearn.ensemble import RandomForestClassifier\n",
    "from sklearn.linear_model import LogisticRegression\n",
    "from sklearn.tree import DecisionTreeClassifier\n",
    "from sklearn.metrics import accuracy_score, precision_score, recall_score, f1_score, classification_report\n",
    "# Step 1: Load the Dataset\n",
    "file_path = r\"pcos_dataset.csv\"\n",
    "students_df = pd.read_csv(file_path)"
   ]
  },
  {
   "cell_type": "code",
   "execution_count": 7,
   "id": "9109a2a0-1789-46a6-b7f8-6816597783cd",
   "metadata": {},
   "outputs": [
    {
     "name": "stdout",
     "output_type": "stream",
     "text": [
      "Original Data:\n",
      "     Age   BMI  Menstrual_Irregularity  Testosterone_Level(ng/dL)  \\\n",
      "0     24  34.7                       1                       25.2   \n",
      "1     37  26.4                       0                       57.1   \n",
      "2     32  23.6                       0                       92.7   \n",
      "3     28  28.8                       0                       63.1   \n",
      "4     25  22.1                       1                       59.8   \n",
      "..   ...   ...                     ...                        ...   \n",
      "995   34  18.4                       1                       95.7   \n",
      "996   45  28.9                       1                       28.5   \n",
      "997   37  28.3                       0                       32.4   \n",
      "998   41  27.3                       0                       95.6   \n",
      "999   22  21.9                       1                       78.9   \n",
      "\n",
      "     Antral_Follicle_Count  PCOS_Diagnosis  \n",
      "0                       20               0  \n",
      "1                       25               0  \n",
      "2                       28               0  \n",
      "3                       26               0  \n",
      "4                        8               0  \n",
      "..                     ...             ...  \n",
      "995                     23               0  \n",
      "996                      7               0  \n",
      "997                     28               0  \n",
      "998                      9               0  \n",
      "999                      7               0  \n",
      "\n",
      "[1000 rows x 6 columns]\n"
     ]
    }
   ],
   "source": [
    "# Display the first few rows of the dataset to check the structure\n",
    "print(\"Original Data:\")\n",
    "print(students_df)"
   ]
  },
  {
   "cell_type": "code",
   "execution_count": 3,
   "id": "b5bd4cc7-874c-4b91-9cba-407d74cf7ecd",
   "metadata": {},
   "outputs": [],
   "source": [
    "# Step 2: Create a new column \"Pass/Fail\"\n",
    "students_df['Pass/Fail'] = students_df['Grade'].apply(lambda x: 'Pass' if x >= 50 else 'Fail')"
   ]
  },
  {
   "cell_type": "code",
   "execution_count": 4,
   "id": "e0acae6e-d974-45cf-ac95-8bd94b26cb81",
   "metadata": {},
   "outputs": [],
   "source": [
    "# Step 3: Normalise the Attendance column to a 0–1 scale\n",
    "students_df['Normalized_Attendance'] = students_df['Attendance'] / 100"
   ]
  },
  {
   "cell_type": "code",
   "execution_count": 5,
   "id": "0444e5ca-2ff7-4290-9f84-a5e23c625f56",
   "metadata": {},
   "outputs": [],
   "source": [
    "# Step 4: Create a new column \"Name_Length\" with the length of each student's name\n",
    "students_df['Name_Length'] = students_df['Name'].apply(len)"
   ]
  },
  {
   "cell_type": "code",
   "execution_count": 6,
   "id": "9b33009e-54ad-4e9c-9cfd-67aa71049b78",
   "metadata": {},
   "outputs": [
    {
     "name": "stdout",
     "output_type": "stream",
     "text": [
      "\n",
      "Updated Data with New Columns:\n",
      "    Name  Grade  Attendance  Gender Pass/Fail  Normalized_Attendance  \\\n",
      "0  Henry     78   59.886547    Male      Pass               0.598865   \n",
      "1    Eve     91   69.478493  Female      Pass               0.694785   \n",
      "2   Jane     68   88.046784  Female      Pass               0.880468   \n",
      "3    Bob     54   62.435405    Male      Pass               0.624354   \n",
      "4    Ivy     82   29.563369  Female      Pass               0.295634   \n",
      "\n",
      "   Name_Length  \n",
      "0            5  \n",
      "1            3  \n",
      "2            4  \n",
      "3            3  \n",
      "4            3  \n"
     ]
    }
   ],
   "source": [
    "# Display the updated DataFrame with new columns\n",
    "print(\"\\nUpdated Data with New Columns:\")\n",
    "print(students_df.head())\n"
   ]
  },
  {
   "cell_type": "code",
   "execution_count": 7,
   "id": "90f9494c-2d1f-47c0-a191-bde498a0f42a",
   "metadata": {},
   "outputs": [
    {
     "name": "stdout",
     "output_type": "stream",
     "text": [
      "\n",
      "Grouped Data by Gender (Mean Grade and Total Attendance):\n",
      "   Gender      Grade   Attendance\n",
      "0  Female  70.262626  4956.847837\n",
      "1    Male  68.405941  5015.884293\n"
     ]
    }
   ],
   "source": [
    "# Step 5: Group data by Gender and calculate mean Grade and total Attendance\n",
    "gender_grouped = students_df.groupby('Gender').agg({'Grade': 'mean', 'Attendance': 'sum'}).reset_index()\n",
    "print(\"\\nGrouped Data by Gender (Mean Grade and Total Attendance):\")\n",
    "print(gender_grouped)"
   ]
  },
  {
   "cell_type": "code",
   "execution_count": 8,
   "id": "a621a447-6002-4419-a020-f15e138df01a",
   "metadata": {},
   "outputs": [
    {
     "name": "stdout",
     "output_type": "stream",
     "text": [
      "\n",
      "Pivot Table (Average Grade and Attendance by Gender):\n",
      "        Attendance      Grade\n",
      "Gender                       \n",
      "Female   50.069170  70.262626\n",
      "Male     49.662221  68.405941\n"
     ]
    }
   ],
   "source": [
    "# Step 6: Create a Pivot Table to show the average Grade and Attendance for each Gender\n",
    "pivot_table = pd.pivot_table(students_df, values=['Grade', 'Attendance'], index='Gender', aggfunc={'Grade': 'mean', 'Attendance': 'mean'})\n",
    "print(\"\\nPivot Table (Average Grade and Attendance by Gender):\")\n",
    "print(pivot_table)"
   ]
  },
  {
   "cell_type": "code",
   "execution_count": 9,
   "id": "b9ccc2d6-8405-4d4a-bdcd-8e4d2af0e6a1",
   "metadata": {},
   "outputs": [],
   "source": [
    "# Optional: Save the transformed dataset to a new CSV file\n",
    "output_file_path = r\"transformed_students_data.csv\"\n",
    "students_df.to_csv(output_file_path, index=False)"
   ]
  },
  {
   "cell_type": "code",
   "execution_count": 10,
   "id": "6e85a84b-e8d5-400a-bd94-974ea186bf98",
   "metadata": {},
   "outputs": [
    {
     "name": "stdout",
     "output_type": "stream",
     "text": [
      "\n",
      "Transformed dataset has been saved to: transformed_students_data.csv\n"
     ]
    }
   ],
   "source": [
    "print(\"\\nTransformed dataset has been saved to:\", output_file_path)"
   ]
  },
  {
   "cell_type": "code",
   "execution_count": 11,
   "id": "396b9f1a-aa7e-4424-99d1-2fd58324dd6b",
   "metadata": {},
   "outputs": [
    {
     "name": "stdout",
     "output_type": "stream",
     "text": [
      "      Name  Attendance  Normalized_Attendance\n",
      "0     John          60                   0.25\n",
      "1    Alice          80                   0.75\n",
      "2      Bob          90                   1.00\n",
      "3     Jane          50                   0.00\n",
      "4  Charlie          70                   0.50\n"
     ]
    }
   ],
   "source": [
    "import pandas as pd\n",
    "\n",
    "# Sample dataset\n",
    "data = {\n",
    "    'Name': ['John', 'Alice', 'Bob', 'Jane', 'Charlie'],\n",
    "    'Attendance': [60, 80, 90, 50, 70]\n",
    "}\n",
    "df = pd.DataFrame(data)\n",
    "\n",
    "# Normalize the 'Attendance' column to 0-1 range\n",
    "df['Normalized_Attendance'] = (df['Attendance'] - df['Attendance'].min()) / (df['Attendance'].max() - df['Attendance'].min())\n",
    "\n",
    "# Display the result\n",
    "print(df)"
   ]
  }
 ],
 "metadata": {
  "kernelspec": {
   "display_name": "Python 3 (ipykernel)",
   "language": "python",
   "name": "python3"
  },
  "language_info": {
   "codemirror_mode": {
    "name": "ipython",
    "version": 3
   },
   "file_extension": ".py",
   "mimetype": "text/x-python",
   "name": "python",
   "nbconvert_exporter": "python",
   "pygments_lexer": "ipython3",
   "version": "3.12.7"
  }
 },
 "nbformat": 4,
 "nbformat_minor": 5
}
